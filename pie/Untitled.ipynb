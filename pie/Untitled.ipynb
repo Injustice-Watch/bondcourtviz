{
 "cells": [
  {
   "cell_type": "markdown",
   "metadata": {},
   "source": [
    "# Filter, Group and Count Hearings by Judge, Bond Type, and Violence"
   ]
  },
  {
   "cell_type": "code",
   "execution_count": 24,
   "metadata": {
    "collapsed": true
   },
   "outputs": [],
   "source": [
    "import pandas as pd"
   ]
  },
  {
   "cell_type": "code",
   "execution_count": 25,
   "metadata": {
    "collapsed": true
   },
   "outputs": [],
   "source": [
    "df = pd.read_csv(\"data.csv\")"
   ]
  },
  {
   "cell_type": "code",
   "execution_count": 26,
   "metadata": {
    "collapsed": false
   },
   "outputs": [],
   "source": [
    "df = df[(df[\"Judge\"] == \"Peggy Chiampas\") | (df[\"Judge\"] == \"Adam Donald Bourgeois\") | (df[\"Judge\"] == \"Laura Sullivan\")]"
   ]
  },
  {
   "cell_type": "code",
   "execution_count": 27,
   "metadata": {
    "collapsed": false
   },
   "outputs": [],
   "source": [
    "counts = df.groupby([\"Judge\", \"Violent\", \"Bond Type\"])[\"Hearing ID\"].nunique(dropna=False)"
   ]
  },
  {
   "cell_type": "code",
   "execution_count": 28,
   "metadata": {
    "collapsed": true
   },
   "outputs": [],
   "source": [
    "counts = pd.DataFrame(counts)"
   ]
  },
  {
   "cell_type": "code",
   "execution_count": 29,
   "metadata": {
    "collapsed": false
   },
   "outputs": [],
   "source": [
    "counts = counts.reset_index(level=[\"Judge\", \"Violent\", \"Bond Type\"])"
   ]
  },
  {
   "cell_type": "code",
   "execution_count": 30,
   "metadata": {
    "collapsed": false
   },
   "outputs": [
    {
     "data": {
      "text/html": [
       "<div>\n",
       "<table border=\"1\" class=\"dataframe\">\n",
       "  <thead>\n",
       "    <tr style=\"text-align: right;\">\n",
       "      <th></th>\n",
       "      <th>Judge</th>\n",
       "      <th>Violent</th>\n",
       "      <th>Bond Type</th>\n",
       "      <th>Hearing ID</th>\n",
       "    </tr>\n",
       "  </thead>\n",
       "  <tbody>\n",
       "    <tr>\n",
       "      <th>0</th>\n",
       "      <td>Adam Donald Bourgeois</td>\n",
       "      <td>NO</td>\n",
       "      <td>D</td>\n",
       "      <td>122</td>\n",
       "    </tr>\n",
       "    <tr>\n",
       "      <th>1</th>\n",
       "      <td>Adam Donald Bourgeois</td>\n",
       "      <td>NO</td>\n",
       "      <td>I</td>\n",
       "      <td>24</td>\n",
       "    </tr>\n",
       "    <tr>\n",
       "      <th>2</th>\n",
       "      <td>Adam Donald Bourgeois</td>\n",
       "      <td>NO</td>\n",
       "      <td>I-EM</td>\n",
       "      <td>69</td>\n",
       "    </tr>\n",
       "    <tr>\n",
       "      <th>3</th>\n",
       "      <td>Adam Donald Bourgeois</td>\n",
       "      <td>YES</td>\n",
       "      <td>D</td>\n",
       "      <td>30</td>\n",
       "    </tr>\n",
       "    <tr>\n",
       "      <th>4</th>\n",
       "      <td>Laura Sullivan</td>\n",
       "      <td>NO</td>\n",
       "      <td>D</td>\n",
       "      <td>371</td>\n",
       "    </tr>\n",
       "    <tr>\n",
       "      <th>5</th>\n",
       "      <td>Laura Sullivan</td>\n",
       "      <td>NO</td>\n",
       "      <td>I</td>\n",
       "      <td>162</td>\n",
       "    </tr>\n",
       "    <tr>\n",
       "      <th>6</th>\n",
       "      <td>Laura Sullivan</td>\n",
       "      <td>NO</td>\n",
       "      <td>I-EM</td>\n",
       "      <td>179</td>\n",
       "    </tr>\n",
       "    <tr>\n",
       "      <th>7</th>\n",
       "      <td>Laura Sullivan</td>\n",
       "      <td>YES</td>\n",
       "      <td>D</td>\n",
       "      <td>86</td>\n",
       "    </tr>\n",
       "    <tr>\n",
       "      <th>8</th>\n",
       "      <td>Laura Sullivan</td>\n",
       "      <td>YES</td>\n",
       "      <td>I-EM</td>\n",
       "      <td>3</td>\n",
       "    </tr>\n",
       "    <tr>\n",
       "      <th>9</th>\n",
       "      <td>Peggy Chiampas</td>\n",
       "      <td>NO</td>\n",
       "      <td>D</td>\n",
       "      <td>82</td>\n",
       "    </tr>\n",
       "    <tr>\n",
       "      <th>10</th>\n",
       "      <td>Peggy Chiampas</td>\n",
       "      <td>NO</td>\n",
       "      <td>I</td>\n",
       "      <td>21</td>\n",
       "    </tr>\n",
       "    <tr>\n",
       "      <th>11</th>\n",
       "      <td>Peggy Chiampas</td>\n",
       "      <td>NO</td>\n",
       "      <td>I-EM</td>\n",
       "      <td>41</td>\n",
       "    </tr>\n",
       "    <tr>\n",
       "      <th>12</th>\n",
       "      <td>Peggy Chiampas</td>\n",
       "      <td>YES</td>\n",
       "      <td>D</td>\n",
       "      <td>14</td>\n",
       "    </tr>\n",
       "    <tr>\n",
       "      <th>13</th>\n",
       "      <td>Peggy Chiampas</td>\n",
       "      <td>YES</td>\n",
       "      <td>I-EM</td>\n",
       "      <td>1</td>\n",
       "    </tr>\n",
       "  </tbody>\n",
       "</table>\n",
       "</div>"
      ],
      "text/plain": [
       "                    Judge Violent Bond Type  Hearing ID\n",
       "0   Adam Donald Bourgeois      NO         D         122\n",
       "1   Adam Donald Bourgeois      NO         I          24\n",
       "2   Adam Donald Bourgeois      NO      I-EM          69\n",
       "3   Adam Donald Bourgeois     YES         D          30\n",
       "4          Laura Sullivan      NO         D         371\n",
       "5          Laura Sullivan      NO         I         162\n",
       "6          Laura Sullivan      NO      I-EM         179\n",
       "7          Laura Sullivan     YES         D          86\n",
       "8          Laura Sullivan     YES      I-EM           3\n",
       "9          Peggy Chiampas      NO         D          82\n",
       "10         Peggy Chiampas      NO         I          21\n",
       "11         Peggy Chiampas      NO      I-EM          41\n",
       "12         Peggy Chiampas     YES         D          14\n",
       "13         Peggy Chiampas     YES      I-EM           1"
      ]
     },
     "execution_count": 30,
     "metadata": {},
     "output_type": "execute_result"
    }
   ],
   "source": [
    "counts"
   ]
  },
  {
   "cell_type": "code",
   "execution_count": 23,
   "metadata": {
    "collapsed": true
   },
   "outputs": [],
   "source": [
    "counts.to_csv(\"processed_data.csv\", index = False)"
   ]
  },
  {
   "cell_type": "code",
   "execution_count": null,
   "metadata": {
    "collapsed": true
   },
   "outputs": [],
   "source": []
  }
 ],
 "metadata": {
  "kernelspec": {
   "display_name": "Python 3",
   "language": "python",
   "name": "python3"
  },
  "language_info": {
   "codemirror_mode": {
    "name": "ipython",
    "version": 3
   },
   "file_extension": ".py",
   "mimetype": "text/x-python",
   "name": "python",
   "nbconvert_exporter": "python",
   "pygments_lexer": "ipython3",
   "version": "3.5.1"
  }
 },
 "nbformat": 4,
 "nbformat_minor": 0
}
